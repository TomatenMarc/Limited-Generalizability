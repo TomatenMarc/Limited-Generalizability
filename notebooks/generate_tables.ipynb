{
  "nbformat": 4,
  "nbformat_minor": 0,
  "metadata": {
    "colab": {
      "provenance": [],
      "collapsed_sections": [
        "rt1FfIQH88qu"
      ],
      "authorship_tag": "ABX9TyNVCiu/3cgHc5+MduxSb3ON"
    },
    "kernelspec": {
      "name": "python3",
      "display_name": "Python 3"
    },
    "language_info": {
      "name": "python"
    },
    "widgets": {
      "application/vnd.jupyter.widget-state+json": {
        "state": {}
      }
    }
  },
  "cells": [
    {
      "cell_type": "code",
      "execution_count": 1,
      "metadata": {
        "colab": {
          "base_uri": "https://localhost:8080/"
        },
        "id": "GFZb0rHc7a_O",
        "executionInfo": {
          "status": "ok",
          "timestamp": 1739690675369,
          "user_tz": -60,
          "elapsed": 23151,
          "user": {
            "displayName": "Marc Feger",
            "userId": "05668673963966344466"
          }
        },
        "outputId": "639e564e-e530-4387-dd51-36f713db1e53"
      },
      "outputs": [
        {
          "output_type": "stream",
          "name": "stdout",
          "text": [
            "Mounted at /content/drive\n",
            "/content/drive/MyDrive/Colab Notebooks/Feger/limited-generalizability\n"
          ]
        }
      ],
      "source": [
        "from google.colab import drive\n",
        "drive.mount('/content/drive')\n",
        "%cd /content/drive/MyDrive/Colab Notebooks/Feger/limited-generalizability"
      ]
    },
    {
      "cell_type": "markdown",
      "source": [
        "# Requirements"
      ],
      "metadata": {
        "id": "rt1FfIQH88qu"
      }
    },
    {
      "cell_type": "code",
      "source": [
        "import pandas as pd"
      ],
      "metadata": {
        "id": "LwE9Vg_C8-SR",
        "executionInfo": {
          "status": "ok",
          "timestamp": 1739690676321,
          "user_tz": -60,
          "elapsed": 956,
          "user": {
            "displayName": "Marc Feger",
            "userId": "05668673963966344466"
          }
        }
      },
      "execution_count": 2,
      "outputs": []
    },
    {
      "cell_type": "markdown",
      "source": [
        "# Dataset Table"
      ],
      "metadata": {
        "id": "TGGGQ5V-7yVm"
      }
    },
    {
      "cell_type": "code",
      "source": [
        "citations = {\n",
        "   \"https://aclanthology.org/W19-4516/\" : \"\\cite{panchenko-etal-2019-categorizing}\",\n",
        "   \"https://aclanthology.org/N19-1219/\" : \"\\cite{hua-etal-2019-argument}\",\n",
        "   \"https://aclanthology.org/2020.findings-emnlp.243/\" : \"\\cite{shnarch-etal-2020-unsupervised}\",\n",
        "   \"https://aclanthology.org/P17-1091/\" : \"\\cite{niculae-etal-2017-argument}\",\n",
        "   \"https://aclanthology.org/W14-2107/\" : \"\\cite{boltuzic-snajder-2014-back}\",\n",
        "   \"https://aclanthology.org/C16-1324/\" : \"\\cite{al-khatib-etal-2016-news}\",\n",
        "   \"https://aclanthology.org/L12-1643/\" : \"\\cite{walker-etal-2012-corpus}\",\n",
        "   \"https://aclanthology.org/2021.argmining-1.8/\" : \"\\cite{mestre-etal-2021-arg}\",\n",
        "   \"https://aclanthology.org/C18-1176/\" : \"\\cite{levy-etal-2018-towards}\",\n",
        "   \"https://aclanthology.org/2022.nlp4pi-1.5/\" : \"\\cite{hansen-hershcovich-2022-dataset}\",\n",
        "   \"https://aclanthology.org/N16-1165/\" : \"\\cite{al-khatib-etal-2016-cross}\",\n",
        "   \"https://aclanthology.org/C14-1142/\" : \"\\cite{stab-gurevych-2014-annotating}\",\n",
        "   \"https://ecai2020.eu/papers/1470_paper\" : \"\\cite{mayer-2020-transformer-based-am}\",\n",
        "   \"https://aclanthology.org/L18-1640/\" : \"\\cite{teruel-etal-2018-increasing}\",\n",
        "   \"https://ojs.aaai.org/index.php/AAAI/article/view/16607\" : \"\\cite{fromm-2021-argument-mining-peer-reviews}\",\n",
        "   \"https://www.aclweb.org/anthology/W18-5206/\" : \"\\cite{lauscher-etal-2018-argument}\",\n",
        "   \"https://aclanthology.org/W14-2109/\" : \"\\cite{aharoni-etal-2014-benchmark}\",\n",
        "   \"https://aclanthology.org/D15-1050/\" : \"\\cite{rinott-etal-2015-show}\",\n",
        "   \"https://aclanthology.org/W17-5102/\" : \"\\cite{hidey-etal-2017-analyzing}\",\n",
        "   \"https://aclanthology.org/E17-1024/\" : \"\\cite{bar-haim-etal-2017-stance}\",\n",
        "   \"https://aclanthology.org/2020.lrec-1.130/\" : \"\\cite{olshefski-etal-2020-discussion}\",\n",
        "   \"https://aclanthology.org/2022.finnlp-1.22/\" : \"\\cite{alhamzeh-etal-2022-time}\",\n",
        "   \"https://aclanthology.org/2022.acl-long.162/\" : \"\\cite{cheng-etal-2022-iam}\",\n",
        "   \"https://aclanthology.org/D15-1110/\" : \"\\cite{peldszus-stede-2015-joint}\",\n",
        "   \"https://www.worldscientific.com/doi/epdf/10.1142/S1793351X11001328\" : \"\\cite{biran-2011-identification-written-dialoges}\",\n",
        "   \"https://aclanthology.org/J17-3005/\" : \"\\cite{stab-gurevych-2017-parsing}\",\n",
        "   \"https://aclanthology.org/2022.lrec-1.352/\" : \"\\cite{hautli-janisz-etal-2022-qt30}\",\n",
        "   \"https://ebooks.iospress.nl/publication/50186\" : \"\\cite{mayer-2018-argument-rct}\",\n",
        "   \"https://aclanthology.org/2021.argmining-1.10/\" : \"\\cite{fergadis-etal-2021-argumentation}\",\n",
        "   \"https://aclanthology.org/J17-1004/\" : \"\\cite{habernal-gurevych-2017-argumentation}\",\n",
        "   \"https://aclanthology.org/P19-1463/\" : \"\\cite{haddadan-etal-2019-yes}\",\n",
        "   \"https://aclanthology.org/2020.lrec-1.611/\" : \"\\cite{morante-etal-2020-annotating}\",\n",
        "   \"https://aclanthology.org/L08-1553/\" : \"\\cite{reed-etal-2008-language}\",\n",
        "   \"https://aclanthology.org/D15-1255\" : \"\\cite{habernal-gurevych-2015-exploiting}\",\n",
        "   \"https://aclanthology.org/W16-3636/\" : \"\\cite{misra-etal-2016-measuring}\",\n",
        "   \"https://link.springer.com/chapter/10.1007/978-3-030-30179-8_4\" : \"\\cite{ajjour-2019-argsme}\",\n",
        "   \"https://aclanthology.org/2021.argmining-1.11/\" : \"\\cite{kondo-etal-2021-bayesian}\",\n",
        "   \"https://aclanthology.org/W18-5213/\" : \"\\cite{green-2018-proposed}\",\n",
        "   \"https://aclanthology.org/2022.argmining-1.14/\" : \"\\cite{grundler-etal-2022-detecting}\",\n",
        "   \"https://aclanthology.org/2020.argmining-1.8/\" : \"\\cite{poudyal-etal-2020-echr}\",\n",
        "   \"https://aclanthology.org/W14-2103/\" : \"\\cite{houngbo-mercer-2014-automated}\",\n",
        "   \"http://arg.tech/people/chris/publications/2012/comma2012aifdb.pdf\" : \"\\cite{lawrence-2012-aifdb}\",\n",
        "   \"https://dl.acm.org/doi/10.1007/s10506-023-09361-y\" : \"\\cite{habernal-2023-court-decisions}\",\n",
        "   \"https://aclanthology.org/2020.argmining-1.5/\" : \"\\cite{trautmann-2020-aspect}\",\n",
        "   \"https://ojs.aaai.org/index.php/AAAI/article/view/6438\" : \"\\cite{trautmann-2020-fine-grained}\",\n",
        "   \"https://aclanthology.org/D18-1402/\" : \"\\cite{stab-etal-2018-cross}\",\n",
        "   \"https://aclanthology.org/W15-4631/\" : \"\\cite{swanson-etal-2015-argument}\",\n",
        "   \"https://aclanthology.org/2024.lrec-main.1349/\" : \"\\cite{feger-dietze-2024-taco}\",\n",
        "   \"https://aclanthology.org/2021.naacl-main.28/\" : \"\\cite{thakur-etal-2021-augmented}\",\n",
        "   \"https://aclanthology.org/P19-1054/\" : \"\\cite{reimers-etal-2019-classification}\",\n",
        "   \"https://www.linguistics.rub.de/konvens16/pub/39_konvensproc.pdf\" : \"\\cite{wojatzki-2016-tweets}\"\n",
        "}"
      ],
      "metadata": {
        "id": "Fhq1_gQJ8Ay-",
        "executionInfo": {
          "status": "ok",
          "timestamp": 1739690676321,
          "user_tz": -60,
          "elapsed": 5,
          "user": {
            "displayName": "Marc Feger",
            "userId": "05668673963966344466"
          }
        }
      },
      "execution_count": 3,
      "outputs": []
    },
    {
      "cell_type": "code",
      "source": [
        "def process_row(row):\n",
        "    no_encountered = False\n",
        "    for i in range(len(row)):\n",
        "        if no_encountered:\n",
        "            row.iloc[i] = \"\"\n",
        "        elif row.iloc[i] == \"No\":\n",
        "            no_encountered = True\n",
        "    return row\n",
        "\n",
        "df_reviews = pd.read_csv('./datasets.csv')\n",
        "df_reviews = df_reviews[[\"Dataset\", \"Paper\", \"Repository\", \"Conference\", \"Year\", \"Domain\", \"Genre\", \"Definition\", \"Level\", \"Binary\", \"Usable-Out-Of-The-Box\", \"Related\", \"Selected\"]]\n",
        "df_reviews[\"Level\"] = df_reviews[\"Level\"].apply(lambda row: \"Yes\" if \"Sentence\" in row or \"Tweet\" in row else \"No\")\n",
        "df_reviews[\"Related\"] = df_reviews[\"Related\"].apply(lambda row: row if row != \"---\" else \"\")\n",
        "df_reviews[\"Usable-Out-Of-The-Box\"] = df_reviews[\"Usable-Out-Of-The-Box\"].apply(lambda row: \"Yes\" if row.startswith(\"http\") else row)\n",
        "df_reviews.rename(columns={'Usable-Out-Of-The-Box': 'Reproducible'}, inplace=True)\n",
        "df_reviews.rename(columns={'Level': 'Sentential'}, inplace=True)\n",
        "df_reviews[\"Paper\"] = df_reviews[\"Paper\"].replace(citations)\n",
        "df_reviews[[\"Sentential\", \"Binary\", \"Reproducible\"]] = df_reviews[[\"Sentential\", \"Binary\", \"Reproducible\"]].apply(process_row, axis=1)\n",
        "\n",
        "stats = pd.read_csv('./output/statistics/all_data_statistics.csv')\n",
        "stats_total = stats[stats[\"label\"] == \"Total\"]\n",
        "stats_argument = stats[stats[\"label\"] == \"Argument\"]\n",
        "stats_no_argument = stats[stats[\"label\"] == \"No-Argument\"]\n",
        "\n",
        "df_reviews = df_reviews.merge(stats_total[[\"dataset\", \"size\"]],left_on=\"Dataset\", right_on=\"dataset\", how=\"left\").drop(columns=[\"dataset\"])\n",
        "df_reviews.rename(columns={'size': 'Total'}, inplace=True)\n",
        "df_reviews = df_reviews.merge(stats_argument[[\"dataset\", \"size\"]],left_on=\"Dataset\", right_on=\"dataset\", how=\"left\").drop(columns=[\"dataset\"])\n",
        "df_reviews.rename(columns={'size': 'Arguments'}, inplace=True)\n",
        "df_reviews = df_reviews.merge(stats_no_argument[[\"dataset\", \"size\"]],left_on=\"Dataset\", right_on=\"dataset\", how=\"left\").drop(columns=[\"dataset\"])\n",
        "df_reviews.rename(columns={'size': 'No-Arguments'}, inplace=True)\n",
        "\n",
        "for col in ['Total', 'Arguments', 'No-Arguments']:\n",
        "    df_reviews[col] = df_reviews[col].fillna(0).astype(int)\n",
        "\n",
        "df_reviews[['Arguments', 'No-Arguments']] = df_reviews[['Arguments', 'No-Arguments']]\n",
        "df_reviews[\"Used\"] = df_reviews.apply(lambda row: \"Yes\" if row[\"Arguments\"] >= 850 and row[\"No-Arguments\"] >= 850 else \"No\", axis=1)\n",
        "\n",
        "for col in ['Total', 'Arguments', 'No-Arguments']:\n",
        "    df_reviews[col] = df_reviews[col].apply(lambda x: f\"{x:,}\").replace({\"0\": \"\"})\n",
        "\n",
        "df_reviews.rename(columns={'Sentential': 'Sent.', \"Reproducible\": \"Reprod.\", \"Arguments\": \"Arg.\", \"No-Arguments\": \"N-Arg.\"}, inplace=True)\n",
        "df_reviews[[\"Dataset\", \"Paper\", \"Definition\", \"Genre\", \"Sent.\", \"Binary\", \"Reprod.\", \"Related\", \"Arg.\", \"N-Arg.\", \"Used\"]].to_latex(index=False, escape=False)"
      ],
      "metadata": {
        "colab": {
          "base_uri": "https://localhost:8080/",
          "height": 86
        },
        "id": "hHGEV-Dd8Ecs",
        "executionInfo": {
          "status": "ok",
          "timestamp": 1739690677333,
          "user_tz": -60,
          "elapsed": 1016,
          "user": {
            "displayName": "Marc Feger",
            "userId": "05668673963966344466"
          }
        },
        "outputId": "dd02a26e-13d8-4e4e-ffba-224f6a340ead"
      },
      "execution_count": 4,
      "outputs": [
        {
          "output_type": "execute_result",
          "data": {
            "text/plain": [
              "'\\\\begin{tabular}{lllllllllll}\\n\\\\toprule\\nDataset & Paper & Definition & Genre & Sent. & Binary & Reprod. & Related & Arg. & N-Arg. & Used \\\\\\\\\\n\\\\midrule\\nACQUA & \\\\cite{panchenko-etal-2019-categorizing} & Argumentative & Mixed & Yes & Yes & Yes &  & 1,949 & 5,236 & Yes \\\\\\\\\\nAMPERE & \\\\cite{hua-etal-2019-argument} & Argumentative & Academic & Yes & Yes & Yes &  & 6,729 & 242 & No \\\\\\\\\\nASRD & \\\\cite{shnarch-etal-2020-unsupervised} & Argumentative & Spoken Debate & Yes & Yes & Yes &  & 260 & 440 & No \\\\\\\\\\nCDCP & \\\\cite{niculae-etal-2017-argument} & Argumentative & Online Debate & Yes & No &  &  &  &  & No \\\\\\\\\\nCOMARG & \\\\cite{boltuzic-snajder-2014-back} & Argumentative & Online Debate & No &  &  &  &  &  & No \\\\\\\\\\nEDIT & \\\\cite{al-khatib-etal-2016-news} & Argumentative & Online Debate & Yes & No &  &  &  &  & No \\\\\\\\\\nIAC & \\\\cite{walker-etal-2012-corpus} & Argumentative & Online Debate & No &  &  &  &  &  & No \\\\\\\\\\nMARG & \\\\cite{mestre-etal-2021-arg} & Argumentative & Spoken Debate & Yes & No &  &  &  &  & No \\\\\\\\\\nQMC & \\\\cite{levy-etal-2018-towards} & Argumentative & Encyclopedia & Yes & Yes & Yes &  & 733 & 1,766 & No \\\\\\\\\\nSDAT & \\\\cite{hansen-hershcovich-2022-dataset} & Argumentative & Twitter Debate & Yes & Yes & Yes &  & 387 & 210 & No \\\\\\\\\\nWEBIS & \\\\cite{al-khatib-etal-2016-cross} & Argumentative & Online Debate & Yes & Yes & Yes &  & 10,804 & 5,543 & Yes \\\\\\\\\\nAAE & \\\\cite{stab-gurevych-2014-annotating} & Claim-based & Academic & Yes & Yes & Yes & PE &  &  & No \\\\\\\\\\nABSTRCT & \\\\cite{mayer-2020-transformer-based-am} & Claim-based & Academic & Yes & Yes & Yes &  & 1,308 & 7,323 & Yes \\\\\\\\\\nAMECHR & \\\\cite{teruel-etal-2018-increasing} & Claim-based & Legal & Yes & Yes & No &  &  &  & No \\\\\\\\\\nAMSR & \\\\cite{fromm-2021-argument-mining-peer-reviews} & Claim-based & Academic & Yes & Yes & Yes &  & 839 & 561 & No \\\\\\\\\\nARGUMINSCI & \\\\cite{lauscher-etal-2018-argument} & Claim-based & Academic & Yes & Yes & Yes &  & 6,554 & 9,548 & Yes \\\\\\\\\\nASC & \\\\cite{wojatzki-2016-tweets} & Claim-based & Twitter Debate & Yes & Yes & Yes &  & 147 & 568 & No \\\\\\\\\\nCDC & \\\\cite{aharoni-etal-2014-benchmark} & Claim-based & Encyclopedia & Yes & Yes & Yes & CE &  &  & No \\\\\\\\\\nCE & \\\\cite{rinott-etal-2015-show} & Claim-based & Encyclopedia & Yes & Yes & Yes &  & 1,546 & 85,417 & Yes \\\\\\\\\\nCMV & \\\\cite{hidey-etal-2017-analyzing} & Claim-based & Online Debate & Yes & Yes & Yes &  & 979 & 1,593 & Yes \\\\\\\\\\nCS & \\\\cite{bar-haim-etal-2017-stance} & Claim-based & Encyclopedia & Yes & Yes & Yes & CE &  &  & No \\\\\\\\\\nDT & \\\\cite{olshefski-etal-2020-discussion} & Claim-based & Spoken Debate & No &  &  &  &  &  & No \\\\\\\\\\nFINARG & \\\\cite{alhamzeh-etal-2022-time} & Claim-based & Spoken Debate & Yes & Yes & Yes &  & 4,607 & 8,310 & Yes \\\\\\\\\\nIAM & \\\\cite{cheng-etal-2022-iam} & Claim-based & Mixed & Yes & Yes & Yes &  & 4,808 & 61,715 & Yes \\\\\\\\\\nMT & \\\\cite{peldszus-stede-2015-joint} & Claim-based & Microtext & Yes & Yes & Yes &  & 112 & 337 & No \\\\\\\\\\nOC & \\\\cite{biran-2011-identification-written-dialoges} & Claim-based & Online Debate & Yes & Yes & Yes &  & 702 & 7,824 & No \\\\\\\\\\nPE & \\\\cite{stab-gurevych-2017-parsing} & Claim-based & Academic & Yes & Yes & Yes &  & 2,093 & 4,958 & Yes \\\\\\\\\\nQT & \\\\cite{hautli-janisz-etal-2022-qt30} & Claim-based & Spoken Debate & Yes & No &  & AIFDB &  &  & No \\\\\\\\\\nRCT & \\\\cite{mayer-2018-argument-rct} & Claim-based & Academic & Yes & Yes & Yes & ABSTRCT &  &  & No \\\\\\\\\\nSCIARK & \\\\cite{fergadis-etal-2021-argumentation} & Claim-based & Academic & Yes & Yes & Yes &  & 1,191 & 10,503 & Yes \\\\\\\\\\nUGWD & \\\\cite{habernal-gurevych-2017-argumentation} & Claim-based & Online Debate & Yes & Yes & Yes & WD &  &  & No \\\\\\\\\\nUSELEC & \\\\cite{haddadan-etal-2019-yes} & Claim-based & Spoken Debate & Yes & Yes & Yes &  & 13,905 & 15,188 & Yes \\\\\\\\\\nVACC & \\\\cite{morante-etal-2020-annotating} & Claim-based & Online Debate & Yes & Yes & Yes &  & 4,394 & 17,825 & Yes \\\\\\\\\\nVG & \\\\cite{reed-etal-2008-language} & Claim-based & Mixed & Yes & Yes & Yes & AIFDB & 547 & 2,029 & No \\\\\\\\\\nWD & \\\\cite{habernal-gurevych-2015-exploiting} & Claim-based & Online Debate & Yes & Yes & Yes &  & 211 & 3,661 & No \\\\\\\\\\nWTP & \\\\cite{biran-2011-identification-written-dialoges} & Claim-based & Online Debate & Yes & Yes & Yes &  & 1,135 & 7,274 & Yes \\\\\\\\\\nECHR & \\\\cite{poudyal-etal-2020-echr} & Conclusion-based & Legal & Yes & Yes & Yes &  & 414 & 10,264 & No \\\\\\\\\\nAFS & \\\\cite{misra-etal-2016-measuring} & Conclusion-based & Online Debate & Yes & Yes & Yes & IAC & 5,150 & 1,036 & Yes \\\\\\\\\\nARGSME & \\\\cite{ajjour-2019-argsme} & Conclusion-based & Online Debate & Yes & No &  &  &  &  & No \\\\\\\\\\nBASN & \\\\cite{kondo-etal-2021-bayesian} & Conclusion-based & Mixed & Yes & No &  &  &  &  & No \\\\\\\\\\nBIOARG & \\\\cite{green-2018-proposed} & Conclusion-based & Academic & Yes & No &  &  &  &  & No \\\\\\\\\\nDEMOSTHENES & \\\\cite{grundler-etal-2022-detecting} & Conclusion-based & Legal & Yes & Yes & No &  &  &  & No \\\\\\\\\\nRSA & \\\\cite{houngbo-mercer-2014-automated} & Conclusion-based & Academic & Yes & No &  &  &  &  & No \\\\\\\\\\nAIFDB & \\\\cite{lawrence-2012-aifdb} & AIF & Mixed & Yes & No &  &  &  &  & No \\\\\\\\\\nLAMECHR & \\\\cite{habernal-2023-court-decisions} & Custom Framework & Legal & Yes & No &  &  &  &  & No \\\\\\\\\\nABAM & \\\\cite{trautmann-2020-aspect} & Evidence or Reasoning & Mixed & Yes & No &  & AURC &  &  & No \\\\\\\\\\nASPECT & \\\\cite{reimers-etal-2019-classification} & Evidence or Reasoning & Mixed & Yes & No &  & UKP &  &  & No \\\\\\\\\\nAURC & \\\\cite{trautmann-2020-fine-grained} & Evidence or Reasoning & Mixed & Yes & Yes & No &  &  &  & No \\\\\\\\\\nBWS & \\\\cite{thakur-etal-2021-augmented} & Evidence or Reasoning & Mixed & Yes & No &  & UKP &  &  & No \\\\\\\\\\nUKP & \\\\cite{stab-etal-2018-cross} & Evidence or Reasoning & Mixed & Yes & Yes & Yes &  & 11,126 & 13,978 & Yes \\\\\\\\\\nAEC & \\\\cite{swanson-etal-2015-argument} & Implicit-Markup & Online Debate & Yes & Yes & Yes & IAC & 4,001 & 1,374 & Yes \\\\\\\\\\nTACO & \\\\cite{feger-dietze-2024-taco} & Inference-Information & Twitter Debate & Yes & Yes & Yes &  & 864 & 868 & Yes \\\\\\\\\\n\\\\bottomrule\\n\\\\end{tabular}\\n'"
            ],
            "application/vnd.google.colaboratory.intrinsic+json": {
              "type": "string"
            }
          },
          "metadata": {},
          "execution_count": 4
        }
      ]
    },
    {
      "cell_type": "code",
      "source": [
        "df_reviews['Selected'].value_counts()"
      ],
      "metadata": {
        "colab": {
          "base_uri": "https://localhost:8080/",
          "height": 176
        },
        "id": "SA-faIJqAcnm",
        "executionInfo": {
          "status": "ok",
          "timestamp": 1739690677333,
          "user_tz": -60,
          "elapsed": 7,
          "user": {
            "displayName": "Marc Feger",
            "userId": "05668673963966344466"
          }
        },
        "outputId": "4107d789-7e96-41fe-9f71-c7d61049300f"
      },
      "execution_count": 5,
      "outputs": [
        {
          "output_type": "execute_result",
          "data": {
            "text/plain": [
              "Selected\n",
              "Yes    28\n",
              "No     24\n",
              "Name: count, dtype: int64"
            ],
            "text/html": [
              "<div>\n",
              "<style scoped>\n",
              "    .dataframe tbody tr th:only-of-type {\n",
              "        vertical-align: middle;\n",
              "    }\n",
              "\n",
              "    .dataframe tbody tr th {\n",
              "        vertical-align: top;\n",
              "    }\n",
              "\n",
              "    .dataframe thead th {\n",
              "        text-align: right;\n",
              "    }\n",
              "</style>\n",
              "<table border=\"1\" class=\"dataframe\">\n",
              "  <thead>\n",
              "    <tr style=\"text-align: right;\">\n",
              "      <th></th>\n",
              "      <th>count</th>\n",
              "    </tr>\n",
              "    <tr>\n",
              "      <th>Selected</th>\n",
              "      <th></th>\n",
              "    </tr>\n",
              "  </thead>\n",
              "  <tbody>\n",
              "    <tr>\n",
              "      <th>Yes</th>\n",
              "      <td>28</td>\n",
              "    </tr>\n",
              "    <tr>\n",
              "      <th>No</th>\n",
              "      <td>24</td>\n",
              "    </tr>\n",
              "  </tbody>\n",
              "</table>\n",
              "</div><br><label><b>dtype:</b> int64</label>"
            ]
          },
          "metadata": {},
          "execution_count": 5
        }
      ]
    },
    {
      "cell_type": "code",
      "source": [
        "df_reviews.rename(columns={\"Arg.\": \"Arguments\", \"N-Arg.\": \"No-Arguments\"}, inplace=True)\n",
        "df_reviews[df_reviews['Used'] == \"Yes\"][[\"Dataset\", \"Paper\", \"Genre\", \"Definition\", \"Arguments\", \"No-Arguments\"]].to_latex(index=False)"
      ],
      "metadata": {
        "colab": {
          "base_uri": "https://localhost:8080/",
          "height": 86
        },
        "id": "hucDbpyKDOZp",
        "executionInfo": {
          "status": "ok",
          "timestamp": 1739690677333,
          "user_tz": -60,
          "elapsed": 6,
          "user": {
            "displayName": "Marc Feger",
            "userId": "05668673963966344466"
          }
        },
        "outputId": "ccce3fdc-dae8-4175-98b6-e0519b6183f7"
      },
      "execution_count": 6,
      "outputs": [
        {
          "output_type": "execute_result",
          "data": {
            "text/plain": [
              "'\\\\begin{tabular}{llllll}\\n\\\\toprule\\nDataset & Paper & Genre & Definition & Arguments & No-Arguments \\\\\\\\\\n\\\\midrule\\nACQUA & \\\\cite{panchenko-etal-2019-categorizing} & Mixed & Argumentative & 1,949 & 5,236 \\\\\\\\\\nWEBIS & \\\\cite{al-khatib-etal-2016-cross} & Online Debate & Argumentative & 10,804 & 5,543 \\\\\\\\\\nABSTRCT & \\\\cite{mayer-2020-transformer-based-am} & Academic & Claim-based & 1,308 & 7,323 \\\\\\\\\\nARGUMINSCI & \\\\cite{lauscher-etal-2018-argument} & Academic & Claim-based & 6,554 & 9,548 \\\\\\\\\\nCE & \\\\cite{rinott-etal-2015-show} & Encyclopedia & Claim-based & 1,546 & 85,417 \\\\\\\\\\nCMV & \\\\cite{hidey-etal-2017-analyzing} & Online Debate & Claim-based & 979 & 1,593 \\\\\\\\\\nFINARG & \\\\cite{alhamzeh-etal-2022-time} & Spoken Debate & Claim-based & 4,607 & 8,310 \\\\\\\\\\nIAM & \\\\cite{cheng-etal-2022-iam} & Mixed & Claim-based & 4,808 & 61,715 \\\\\\\\\\nPE & \\\\cite{stab-gurevych-2017-parsing} & Academic & Claim-based & 2,093 & 4,958 \\\\\\\\\\nSCIARK & \\\\cite{fergadis-etal-2021-argumentation} & Academic & Claim-based & 1,191 & 10,503 \\\\\\\\\\nUSELEC & \\\\cite{haddadan-etal-2019-yes} & Spoken Debate & Claim-based & 13,905 & 15,188 \\\\\\\\\\nVACC & \\\\cite{morante-etal-2020-annotating} & Online Debate & Claim-based & 4,394 & 17,825 \\\\\\\\\\nWTP & \\\\cite{biran-2011-identification-written-dialoges} & Online Debate & Claim-based & 1,135 & 7,274 \\\\\\\\\\nAFS & \\\\cite{misra-etal-2016-measuring} & Online Debate & Conclusion-based & 5,150 & 1,036 \\\\\\\\\\nUKP & \\\\cite{stab-etal-2018-cross} & Mixed & Evidence or Reasoning & 11,126 & 13,978 \\\\\\\\\\nAEC & \\\\cite{swanson-etal-2015-argument} & Online Debate & Implicit-Markup & 4,001 & 1,374 \\\\\\\\\\nTACO & \\\\cite{feger-dietze-2024-taco} & Twitter Debate & Inference-Information & 864 & 868 \\\\\\\\\\n\\\\bottomrule\\n\\\\end{tabular}\\n'"
            ],
            "application/vnd.google.colaboratory.intrinsic+json": {
              "type": "string"
            }
          },
          "metadata": {},
          "execution_count": 6
        }
      ]
    }
  ]
}
